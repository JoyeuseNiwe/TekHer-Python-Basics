{
 "cells": [
  {
   "cell_type": "markdown",
   "id": "426486dd",
   "metadata": {},
   "source": [
    "# Practical_1: Variables and Assignments"
   ]
  },
  {
   "cell_type": "markdown",
   "id": "c16cd361-fe56-4ba7-be57-960a3218a028",
   "metadata": {},
   "source": [
    "----\n",
    "\n",
    "### Exercise 1:\n",
    "Declare a variable `x` and assign it the value `10`.\n",
    "\n",
    "```python\n",
    "# Exercise 1\n",
    "```\n",
    "\n",
    "---\n",
    "\n",
    "### Exercise 2:\n",
    "Assign the value `True` to a variable called `is_valid`.\n",
    "\n",
    "```python\n",
    "# Exercise 2\n",
    "```\n",
    "\n",
    "---\n",
    "\n",
    "### Exercise 3:\n",
    "Create a string variable `name` with the value \"Python Programming\".\n",
    "\n",
    "```python\n",
    "# Exercise 3\n",
    "```\n",
    "\n",
    "---\n",
    "\n",
    "### Exercise 4:\n",
    "Assign the result of `5 + 3` to a variable `sum_result`.\n",
    "\n",
    "```python\n",
    "# Exercise 4\n",
    "```\n",
    "\n",
    "---\n",
    "\n",
    "### Exercise 5:\n",
    "Assign multiple variables in one line: `a = 5`, `b = 10`, `c = 15`.\n",
    "\n",
    "```python\n",
    "# Exercise 5\n",
    "```\n",
    "\n",
    "---\n",
    "\n",
    "### Exercise 6:\n",
    "Assign the value of one variable `x` to another variable `y`.\n",
    "\n",
    "```python\n",
    "# Exercise 6\n",
    "```\n",
    "\n",
    "---\n",
    "\n",
    "### Exercise 7:\n",
    "Assign a floating-point number `9.8` to a variable `gravity`.\n",
    "\n",
    "```python\n",
    "# Exercise 7\n",
    "```\n",
    "\n",
    "---\n",
    "\n",
    "### Exercise 8:\n",
    "Create a variable `country` and assign it the string value of your favorite country.\n",
    "\n",
    "```python\n",
    "# Exercise 8\n",
    "```\n",
    "\n",
    "---\n",
    "\n",
    "### Exercise 9:\n",
    "Change the value of variable `age` from `25` to `26` in two separate steps.\n",
    "\n",
    "```python\n",
    "# Exercise 9\n",
    "```\n",
    "\n",
    "---\n",
    "\n",
    "### Exercise 10:\n",
    "Use one variable to store the result of subtracting two numbers `20 - 7`.\n",
    "\n",
    "```python\n",
    "# Exercise 10\n",
    "```\n",
    "\n",
    "---\n",
    "\n",
    "### Exercise 11:\n",
    "Assign an integer value and a floating-point value to two different variables.\n",
    "\n",
    "```python\n",
    "# Exercise 11\n",
    "```\n",
    "\n",
    "---\n",
    "\n",
    "### Exercise 12:\n",
    "Assign a boolean value `False` to a variable `is_completed`.\n",
    "\n",
    "```python\n",
    "# Exercise 12\n",
    "```\n",
    "\n",
    "---\n",
    "\n",
    "### Exercise 13:\n",
    "Swap the values of two variables `x` and `y`.\n",
    "\n",
    "```python\n",
    "# Exercise 13\n",
    "```\n",
    "\n",
    "---\n",
    "\n",
    "### Exercise 14:\n",
    "Assign a complex number `3 + 4j` to a variable `complex_num`.\n",
    "\n",
    "```python\n",
    "# Exercise 14\n",
    "```\n",
    "\n",
    "---\n",
    "\n",
    "### Exercise 15:\n",
    "Reassign a variable from an integer to a string.\n",
    "\n",
    "```python\n",
    "# Exercise 15\n",
    "```\n",
    "\n",
    "---\n",
    "\n",
    "### Exercise 16:\n",
    "Create two variables `first_name` and `last_name`, and assign them your first and last names.\n",
    "\n",
    "```python\n",
    "# Exercise 16\n",
    "```\n",
    "\n",
    "---\n",
    "\n",
    "### Exercise 17:\n",
    "Create a variable `temperature` and assign it the value of `35.5`.\n",
    "\n",
    "```python\n",
    "# Exercise 17\n",
    "```\n",
    "\n",
    "---\n",
    "\n",
    "### Exercise 18:\n",
    "Assign the result of the multiplication of two numbers `8 * 6` to a variable `product`.\n",
    "\n",
    "```python\n",
    "# Exercise 18\n",
    "```\n",
    "\n",
    "---\n",
    "\n",
    "### Exercise 19:\n",
    "Assign a sentence of your choice to a variable `sentence`.\n",
    "\n",
    "```python\n",
    "# Exercise 19\n",
    "```\n",
    "\n",
    "---\n",
    "\n",
    "### Exercise 20:\n",
    "Use an assignment to convert a string `'50'` into an integer variable `int_value`.\n",
    "\n",
    "```python\n",
    "# Exercise 20\n",
    "```\n",
    "\n",
    "---\n",
    "\n",
    "### Exercise 21:\n",
    "Assign the result of dividing `144` by `12` to a variable `quotient`.\n",
    "\n",
    "```python\n",
    "# Exercise 21\n",
    "```\n",
    "\n",
    "---\n",
    "\n",
    "### Exercise 22:\n",
    "Assign the remainder of `47 divided by 5` to a variable `remainder`.\n",
    "\n",
    "```python\n",
    "# Exercise 22\n",
    "```\n",
    "\n",
    "---\n",
    "\n",
    "### Exercise 23:\n",
    "Create a variable `is_student` and assign it the value `True`.\n",
    "\n",
    "```python\n",
    "# Exercise 23\n",
    "```\n",
    "\n",
    "---\n",
    "\n",
    "### Exercise 24:\n",
    "Use a variable to store the result of a modulo operation: `45 % 4`.\n",
    "\n",
    "```python\n",
    "# Exercise 24\n",
    "```\n",
    "\n",
    "---\n",
    "\n",
    "### Exercise 25:\n",
    "Create a variable `pi` and assign it the value `3.14159`.\n",
    "\n",
    "```python\n",
    "# Exercise 25\n",
    "```\n",
    "\n",
    "---\n",
    "\n",
    "### Exercise 26:\n",
    "Create two variables `length` and `width`, assign them values, and calculate the area of a rectangle.\n",
    "\n",
    "```python\n",
    "# Exercise 26\n",
    "```\n",
    "\n",
    "---\n",
    "\n",
    "### Exercise 27:\n",
    "Assign a negative number to a variable `negative_value`.\n",
    "\n",
    "```python\n",
    "# Exercise 27\n",
    "```\n",
    "\n",
    "---\n",
    "\n",
    "### Exercise 28:\n",
    "Assign a string containing a special character (e.g., \"Hello, World!\") to a variable `greeting`.\n",
    "\n",
    "```python\n",
    "# Exercise 28\n",
    "```\n",
    "\n",
    "---\n",
    "\n",
    "### Exercise 29:\n",
    "Create a variable `population` and assign it a large integer value (in billions).\n",
    "\n",
    "```python\n",
    "# Exercise 29\n",
    "```\n",
    "\n",
    "---\n",
    "\n",
    "### Exercise 30:\n",
    "Use a variable to store the result of raising `2` to the power of `8`.\n",
    "\n",
    "```python\n",
    "# Exercise 30\n",
    "```\n",
    "\n",
    "---\n",
    "\n",
    "### Exercise 31:\n",
    "Assign a list of your favorite fruits to a variable `fruits`.\n",
    "\n",
    "```python\n",
    "# Exercise 31\n",
    "```\n",
    "\n",
    "---\n",
    "\n",
    "### Exercise 32:\n",
    "Assign a tuple of three numbers to a variable `coordinates`.\n",
    "\n",
    "```python\n",
    "# Exercise 32\n",
    "```\n",
    "\n",
    "---\n",
    "\n",
    "### Exercise 33:\n",
    "Assign a dictionary with keys `name` and `age` to a variable `person`.\n",
    "\n",
    "```python\n",
    "# Exercise 33\n",
    "```\n",
    "\n",
    "---\n",
    "\n",
    "### Exercise 34:\n",
    "Use variables to store the sum of two floating-point numbers.\n",
    "\n",
    "```python\n",
    "# Exercise 34\n",
    "```\n",
    "\n",
    "---\n",
    "\n",
    "### Exercise 35:\n",
    "Create a variable `is_sunny` and assign it the result of a comparison `10 > 5`.\n",
    "\n",
    "```python\n",
    "# Exercise 35\n",
    "```\n",
    "\n",
    "---\n",
    "\n",
    "### Exercise 36:\n",
    "Assign a string and an integer to two different variables, then print both on one line.\n",
    "\n",
    "```python\n",
    "# Exercise 36\n",
    "```\n",
    "\n",
    "---\n",
    "\n",
    "### Exercise 37:\n",
    "Reassign a variable that originally held a number to a boolean value.\n",
    "\n",
    "```python\n",
    "# Exercise 37\n",
    "```\n",
    "\n",
    "---\n",
    "\n",
    "### Exercise 38:\n",
    "Create a variable `is_weekend` and assign it the result of `False`.\n",
    "\n",
    "```python\n",
    "# Exercise 38\n",
    "```\n",
    "\n",
    "---\n",
    "\n",
    "### Exercise 39:\n",
    "Assign a multi-line string to a variable `description`.\n",
    "\n",
    "```python\n",
    "# Exercise 39\n",
    "```\n",
    "\n",
    "---\n",
    "\n",
    "### Exercise 40:\n",
    "Use variables to store the result of the absolute value of `-25`.\n",
    "\n",
    "```python\n",
    "# Exercise 40\n",
    "```\n",
    "\n",
    "---\n",
    "\n",
    "### Exercise 41:\n",
    "Assign the result of a floor division `100 // 6` to a variable `floor_div_result`.\n",
    "\n",
    "```python\n",
    "# Exercise 41\n",
    "```\n",
    "\n",
    "---\n",
    "\n",
    "### Exercise 42:\n",
    "Assign the result of adding a floating-point number to an integer to a variable `mixed_sum`.\n",
    "\n",
    "```python\n",
    "# Exercise 42\n",
    "```\n",
    "\n",
    "---\n",
    "\n",
    "### Exercise 43:\n",
    "Use variables to store a combination of string concatenation.\n",
    "\n",
    "```python\n",
    "# Exercise 43\n",
    "```\n",
    "\n",
    "---\n",
    "\n",
    "### Exercise 44:\n",
    "Assign an empty list to a variable `empty_list`.\n",
    "\n",
    "```python\n",
    "# Exercise 44\n",
    "```\n",
    "\n",
    "---\n",
    "\n",
    "### Exercise 45:\n",
    "Assign a boolean value based on the comparison of two variables `a = 10` and `b = 15`.\n",
    "\n",
    "```python\n",
    "# Exercise 45\n",
    "```\n",
    "\n",
    "---\n",
    "\n",
    "### Exercise 46:\n",
    "Assign a long sentence to a variable and count its characters using `len()`.\n",
    "\n",
    "```python\n",
    "# Exercise 46\n",
    "```\n",
    "\n",
    "---\n",
    "\n",
    "### Exercise 47:\n",
    "Assign a fractional result `7 / 3` to a variable `division_result`.\n",
    "\n",
    "```python\n",
    "# Exercise 47\n",
    "```\n",
    "\n",
    "---\n",
    "\n",
    "### Exercise 48:\n",
    "Create a variable `speed` and assign it the value of 100 kilometers per hour.\n",
    "\n",
    "```python\n",
    "# Exercise 48\n",
    "```\n",
    "\n",
    "---\n",
    "\n",
    "### Exercise 49:\n",
    "Assign a multi-variable equation like `y = 3x + 5` where `x = 4` to a variable `y`.\n",
    "\n",
    "```python\n",
    "# Exercise 49\n",
    "```\n",
    "\n",
    "---\n",
    "\n",
    "### Exercise 50:\n",
    "Use variables to calculate and store the average of three numbers.\n",
    "\n",
    "```python\n",
    "# Exercise 50\n",
    "```\n",
    "\n",
    "****"
   ]
  },
  {
   "cell_type": "markdown",
   "id": "fa212250-e6a9-4f46-8d2d-f0ed11693325",
   "metadata": {},
   "source": [
    "# Exercise 1"
   ]
  },
  {
   "cell_type": "code",
   "execution_count": 26,
   "id": "05129ef0-a682-45b7-8ccd-50c83d75b88e",
   "metadata": {},
   "outputs": [],
   "source": [
    "x = 10"
   ]
  },
  {
   "cell_type": "markdown",
   "id": "67abfb02-b175-410a-9f46-3829b21e53ff",
   "metadata": {},
   "source": [
    "# Exercise 2"
   ]
  },
  {
   "cell_type": "code",
   "execution_count": null,
   "id": "a827aa22-bb8c-4797-9883-574d5b9a4ef0",
   "metadata": {},
   "outputs": [],
   "source": [
    "is_valid = TRUE"
   ]
  },
  {
   "cell_type": "markdown",
   "id": "73f111e7-fb90-44f8-b928-41102f30d399",
   "metadata": {},
   "source": [
    "# Exercise 3"
   ]
  },
  {
   "cell_type": "code",
   "execution_count": null,
   "id": "941ee46e-4411-4189-8fac-5f76e26af141",
   "metadata": {},
   "outputs": [],
   "source": [
    "name = \"python programming\""
   ]
  },
  {
   "cell_type": "markdown",
   "id": "ea3095be-0a8b-4cd8-ba1e-28f9b7b4ff56",
   "metadata": {},
   "source": [
    "# Exercise 4"
   ]
  },
  {
   "cell_type": "code",
   "execution_count": 12,
   "id": "08a9d67b-e558-423e-91d0-6942dbb0d472",
   "metadata": {},
   "outputs": [],
   "source": [
    "sum_result = 5 + 3"
   ]
  },
  {
   "cell_type": "markdown",
   "id": "243cd0a8-6ba5-4ec5-9449-3720d36fd7b4",
   "metadata": {},
   "source": [
    "# Exercise 5"
   ]
  },
  {
   "cell_type": "code",
   "execution_count": 15,
   "id": "673c09ba-2465-4078-a81e-5f2c3a38429d",
   "metadata": {},
   "outputs": [],
   "source": [
    "a , b , c = 5, 10, 15"
   ]
  },
  {
   "cell_type": "markdown",
   "id": "66fe1f6d-263c-4413-8169-9cf578cfd3eb",
   "metadata": {},
   "source": [
    "# Exercise 6"
   ]
  },
  {
   "cell_type": "code",
   "execution_count": 28,
   "id": "29f58fc1-a78a-4af3-9dae-370554a469f6",
   "metadata": {},
   "outputs": [],
   "source": [
    "y = x"
   ]
  },
  {
   "cell_type": "markdown",
   "id": "356ecbc9-b5ed-43b7-9014-e3e53187ba78",
   "metadata": {},
   "source": [
    "# Exercise 7"
   ]
  },
  {
   "cell_type": "code",
   "execution_count": 31,
   "id": "1d37484c-492c-484f-a004-54615eb9d6ca",
   "metadata": {},
   "outputs": [],
   "source": [
    "gravity = 9.8"
   ]
  },
  {
   "cell_type": "markdown",
   "id": "39a09411-8ba2-4ce9-9011-da16a1c56042",
   "metadata": {},
   "source": [
    "# Exercise 8"
   ]
  },
  {
   "cell_type": "code",
   "execution_count": 34,
   "id": "1ee9e539-d361-4a8d-893e-7c2369af10e5",
   "metadata": {},
   "outputs": [],
   "source": [
    "country = \"Rwanda\""
   ]
  },
  {
   "cell_type": "markdown",
   "id": "a9b832ab-e4a0-431d-be6d-cdc02c8a6f9d",
   "metadata": {},
   "source": [
    "# Exercise 9"
   ]
  },
  {
   "cell_type": "code",
   "execution_count": 53,
   "id": "a166949e-e60d-4aeb-9430-e20740e285a4",
   "metadata": {},
   "outputs": [],
   "source": [
    "Age = 25 \n",
    "Age = Age + 1"
   ]
  },
  {
   "cell_type": "markdown",
   "id": "d02b4d7b-55d2-4bd5-a04d-229a3f86ad5c",
   "metadata": {},
   "source": [
    "# Exercise 10"
   ]
  },
  {
   "cell_type": "code",
   "execution_count": 55,
   "id": "0a453ffd-a54c-43e6-8859-360940fc4bcb",
   "metadata": {},
   "outputs": [],
   "source": [
    "z = 20 - 7"
   ]
  },
  {
   "cell_type": "markdown",
   "id": "ecc5563b-c86e-46ee-a50c-524652cc12e3",
   "metadata": {},
   "source": [
    "# Exercise 11"
   ]
  },
  {
   "cell_type": "code",
   "execution_count": 58,
   "id": "47a6e9a2-13d2-4420-84aa-bc53933e5a6d",
   "metadata": {},
   "outputs": [],
   "source": [
    "m = 16\n",
    "n = 10.234"
   ]
  },
  {
   "cell_type": "markdown",
   "id": "20d001b2-82d3-4bf9-8555-323f6b90acff",
   "metadata": {},
   "source": [
    "# Exercise 12"
   ]
  },
  {
   "cell_type": "code",
   "execution_count": 62,
   "id": "5c87a559-d949-4b1c-b912-215fdc6e8551",
   "metadata": {},
   "outputs": [],
   "source": [
    "is_completed = False"
   ]
  },
  {
   "cell_type": "markdown",
   "id": "fb1ae28b-35cb-4d4f-b19f-6bbc241e141f",
   "metadata": {},
   "source": [
    "# Exercise 13"
   ]
  },
  {
   "cell_type": "code",
   "execution_count": 73,
   "id": "bbe2f373-ce61-49d6-b612-d706543ca1b7",
   "metadata": {},
   "outputs": [],
   "source": [
    "x , y = 2 , 3\n",
    "x,y = y,x"
   ]
  },
  {
   "cell_type": "markdown",
   "id": "bdb9a135-6c1c-4ee8-b3df-2d904c54534c",
   "metadata": {},
   "source": [
    "# Exercise 14"
   ]
  },
  {
   "cell_type": "code",
   "execution_count": 76,
   "id": "f7e7a500-3856-4341-a710-9c4fea9b8238",
   "metadata": {},
   "outputs": [],
   "source": [
    "complex_num = 3 + 4j"
   ]
  },
  {
   "cell_type": "markdown",
   "id": "95ef6f81-4789-4b97-afcb-1dedc1dc5999",
   "metadata": {},
   "source": [
    "# Exercise 15"
   ]
  },
  {
   "cell_type": "code",
   "execution_count": 79,
   "id": "e8f1354e-598a-4bc9-9c5b-645ae5ef5792",
   "metadata": {},
   "outputs": [],
   "source": [
    "k = 5\n",
    "k = str(k)"
   ]
  },
  {
   "cell_type": "markdown",
   "id": "ac4e078b-8ef5-421a-92f9-6be119ccd427",
   "metadata": {},
   "source": [
    "# Exercise 16"
   ]
  },
  {
   "cell_type": "code",
   "execution_count": 84,
   "id": "3f923f43-979e-41e7-9468-cf13dcd48ec1",
   "metadata": {},
   "outputs": [],
   "source": [
    "first_name = \"Joyeuse\"\n",
    "last_name = \"Niwemufasha\""
   ]
  },
  {
   "cell_type": "markdown",
   "id": "39ba5707-4342-46c2-b836-4090a7f671ed",
   "metadata": {},
   "source": [
    "# Exercise 17"
   ]
  },
  {
   "cell_type": "code",
   "execution_count": null,
   "id": "cf0f8349-5957-42a1-a381-70a959a4a265",
   "metadata": {},
   "outputs": [],
   "source": [
    "temperature = 35.5"
   ]
  },
  {
   "cell_type": "markdown",
   "id": "a8455568-09db-4ea7-8c61-583dd34e6f99",
   "metadata": {},
   "source": [
    "# Execise 18"
   ]
  },
  {
   "cell_type": "code",
   "execution_count": 95,
   "id": "d438a62d-ecfa-4b99-a7c0-f7fe37d9adaf",
   "metadata": {},
   "outputs": [],
   "source": [
    "product = 8 * 6"
   ]
  },
  {
   "cell_type": "markdown",
   "id": "4de410c4-54e0-4f09-83b0-61feb466ab9d",
   "metadata": {},
   "source": [
    "# Exercise 19"
   ]
  },
  {
   "cell_type": "code",
   "execution_count": 98,
   "id": "b3e452f6-2f0c-4f9a-95b2-2fc9a19c90e4",
   "metadata": {},
   "outputs": [],
   "source": [
    "sentence = \"Hello world\""
   ]
  },
  {
   "cell_type": "markdown",
   "id": "7f4989c4-ac98-4ad5-941f-a028eaee68d0",
   "metadata": {},
   "source": [
    "# Exercise 20"
   ]
  },
  {
   "cell_type": "code",
   "execution_count": 101,
   "id": "6f8ad5b1-e4a4-46a2-8212-f18a6ff1d550",
   "metadata": {},
   "outputs": [],
   "source": [
    "int_value = int('50')"
   ]
  },
  {
   "cell_type": "markdown",
   "id": "8a05d6d1-521e-42be-9366-a707e3ff249f",
   "metadata": {},
   "source": [
    "# Exercise 21"
   ]
  },
  {
   "cell_type": "code",
   "execution_count": 105,
   "id": "c0e9d3c8-8e47-4edf-9cf3-c8cf4a92f695",
   "metadata": {},
   "outputs": [],
   "source": [
    "quotient = 144 / 12"
   ]
  },
  {
   "cell_type": "markdown",
   "id": "0d988f75-5114-47d7-8dfd-10bb9659261a",
   "metadata": {},
   "source": [
    "# Exercise 22"
   ]
  },
  {
   "cell_type": "code",
   "execution_count": 109,
   "id": "ce902d5e-5541-4114-a35f-037a44365a91",
   "metadata": {},
   "outputs": [],
   "source": [
    "remainder = 47 % 5"
   ]
  },
  {
   "cell_type": "markdown",
   "id": "74f1ffbc-d981-4c9b-b116-74b1757a464d",
   "metadata": {},
   "source": [
    "# Execise 23"
   ]
  },
  {
   "cell_type": "code",
   "execution_count": 112,
   "id": "9f264f3e-c6b9-4eac-9d6a-c75d1a706c61",
   "metadata": {},
   "outputs": [],
   "source": [
    "is_student = True"
   ]
  },
  {
   "cell_type": "markdown",
   "id": "35d35693-265d-4ab9-ba6f-7cf4c52f86b1",
   "metadata": {},
   "source": [
    "# Exercise 24"
   ]
  },
  {
   "cell_type": "code",
   "execution_count": null,
   "id": "56a9f547-f9bd-495c-84a7-e757c4997fff",
   "metadata": {},
   "outputs": [],
   "source": [
    "modulus = 45 % 4"
   ]
  },
  {
   "cell_type": "markdown",
   "id": "26416d07-e315-493a-b46f-31bcc403188a",
   "metadata": {},
   "source": [
    "# Exercise 25"
   ]
  },
  {
   "cell_type": "code",
   "execution_count": 117,
   "id": "a051068f-91df-476a-9843-a593a2c5c913",
   "metadata": {},
   "outputs": [],
   "source": [
    "pi = 3.14159"
   ]
  },
  {
   "cell_type": "markdown",
   "id": "b768ffdb-d874-45d8-bf16-689e46e17fca",
   "metadata": {},
   "source": [
    "# Exercise 26"
   ]
  },
  {
   "cell_type": "code",
   "execution_count": 120,
   "id": "93f9f835-81ea-4046-96c5-20eb5a781042",
   "metadata": {},
   "outputs": [],
   "source": [
    "width = 4\n",
    "length = 7\n",
    "area = length * width"
   ]
  },
  {
   "cell_type": "markdown",
   "id": "ccde493b-2777-44f4-85c9-29705f4d8107",
   "metadata": {},
   "source": [
    "# Exercise 27"
   ]
  },
  {
   "cell_type": "code",
   "execution_count": 123,
   "id": "58cf5fe5-688f-4893-829e-8567670cf02b",
   "metadata": {},
   "outputs": [],
   "source": [
    "negative_value = -45"
   ]
  },
  {
   "cell_type": "markdown",
   "id": "b0e69b42-9f93-483f-af07-ef7b1d70dd12",
   "metadata": {},
   "source": [
    "# Exercise 28"
   ]
  },
  {
   "cell_type": "code",
   "execution_count": 126,
   "id": "6284c17c-d0a2-4937-abba-eaf858aa155c",
   "metadata": {},
   "outputs": [],
   "source": [
    "greeting = \"hii , my name is Bill\""
   ]
  },
  {
   "cell_type": "markdown",
   "id": "91e00eab-6c02-4a46-8c49-ce93cbc3196b",
   "metadata": {},
   "source": [
    "# Exercise 29"
   ]
  },
  {
   "cell_type": "code",
   "execution_count": 129,
   "id": "2fa5f145-9a27-4233-b382-640322868dff",
   "metadata": {},
   "outputs": [],
   "source": [
    "population = 2,000,000,000"
   ]
  },
  {
   "cell_type": "markdown",
   "id": "71914fa4-e916-4d30-8d52-a42ae398a438",
   "metadata": {},
   "source": [
    "# Exercise 30"
   ]
  },
  {
   "cell_type": "code",
   "execution_count": 136,
   "id": "99accd50-cdee-4ded-b19c-11a9c14d7d34",
   "metadata": {},
   "outputs": [],
   "source": [
    "p = 2**8"
   ]
  },
  {
   "cell_type": "markdown",
   "id": "310e9a22-2d94-49fe-8020-c6b6bf4c2d38",
   "metadata": {},
   "source": [
    "# Exercise 31"
   ]
  },
  {
   "cell_type": "code",
   "execution_count": 149,
   "id": "ed6efcde-3c0e-4bba-b0b8-71ab29e58451",
   "metadata": {},
   "outputs": [],
   "source": [
    "fruits = ['banana','mango','apple','water melon']"
   ]
  },
  {
   "cell_type": "markdown",
   "id": "7eddf980-bb7d-4dbd-9a3a-017fe617acdb",
   "metadata": {},
   "source": [
    "# Exercise 32"
   ]
  },
  {
   "cell_type": "code",
   "execution_count": 151,
   "id": "10d7e32b-0a35-44a7-9e80-236afeacc00d",
   "metadata": {},
   "outputs": [],
   "source": [
    "coordinates = (10,20,30)"
   ]
  },
  {
   "cell_type": "markdown",
   "id": "5b8dd8d3-dd28-4453-aaf6-32a090f64a16",
   "metadata": {},
   "source": [
    "# Exercise 33"
   ]
  },
  {
   "cell_type": "code",
   "execution_count": null,
   "id": "9e5e31e4-b780-4f7e-a194-c64cd660de93",
   "metadata": {},
   "outputs": [],
   "source": [
    "person = {\"name\": \"Alice\", \"age\": 30}"
   ]
  },
  {
   "cell_type": "markdown",
   "id": "903e9760-ac0a-4ccf-ae0d-5652d453f21d",
   "metadata": {},
   "source": [
    "# Exercise 34"
   ]
  },
  {
   "cell_type": "code",
   "execution_count": null,
   "id": "6403049b-fb3a-4d3b-8261-bcc54cacdd51",
   "metadata": {},
   "outputs": [],
   "source": [
    "num1 = 2.5\n",
    "num2 = 3.5\n",
    "sum = num1 + num2"
   ]
  },
  {
   "cell_type": "markdown",
   "id": "534a88e8-4a1a-428c-a703-0e4d69e1017b",
   "metadata": {},
   "source": [
    "# Exercise 35"
   ]
  },
  {
   "cell_type": "code",
   "execution_count": null,
   "id": "08b6e4aa-0fb1-42a8-8eda-fe2451979f03",
   "metadata": {},
   "outputs": [],
   "source": [
    "is_sunny = 10 > 5"
   ]
  },
  {
   "cell_type": "markdown",
   "id": "c979f1c7-628e-4518-95cc-9ed4c2755ca0",
   "metadata": {},
   "source": [
    "# Exercise 36"
   ]
  },
  {
   "cell_type": "code",
   "execution_count": 159,
   "id": "8c3b76a3-a68e-49b9-9427-abe5d2d8c484",
   "metadata": {},
   "outputs": [
    {
     "name": "stdout",
     "output_type": "stream",
     "text": [
      "my age is: 22\n"
     ]
    }
   ],
   "source": [
    "my_age = \"my age is:\"\n",
    "age = 22\n",
    "print(my_age, age)"
   ]
  },
  {
   "cell_type": "markdown",
   "id": "8203a40b-9bc8-433b-8ce4-d39b53866341",
   "metadata": {},
   "source": [
    "# Exercise 37"
   ]
  },
  {
   "cell_type": "code",
   "execution_count": null,
   "id": "aa78d1b1-c5ca-49ec-a35f-6df4dc5e78fd",
   "metadata": {},
   "outputs": [],
   "source": [
    "some_var = 100\n",
    "some_var = True"
   ]
  },
  {
   "cell_type": "markdown",
   "id": "d5fbfaa6-6b0d-41bd-9622-09ae266d6f75",
   "metadata": {},
   "source": [
    "# Exercise 38"
   ]
  },
  {
   "cell_type": "code",
   "execution_count": null,
   "id": "47db9f15-be64-4107-acc3-d5f70af2b8e2",
   "metadata": {},
   "outputs": [],
   "source": [
    "is_weekend = False"
   ]
  },
  {
   "cell_type": "markdown",
   "id": "478cc7f7-3121-49ad-9862-73744de28e5b",
   "metadata": {},
   "source": [
    "# Exercise 39"
   ]
  },
  {
   "cell_type": "code",
   "execution_count": 157,
   "id": "d8bfd686-07db-428d-a575-aa01093d7c0c",
   "metadata": {},
   "outputs": [],
   "source": [
    "description = \"\"\"I really enjoy\n",
    "walking into\n",
    "the rain.\"\"\""
   ]
  },
  {
   "cell_type": "markdown",
   "id": "53af6009-ed80-46da-b041-bb81dd5572a3",
   "metadata": {},
   "source": [
    "# Exercise 40"
   ]
  },
  {
   "cell_type": "code",
   "execution_count": null,
   "id": "dafc37fd-04d1-4cd7-b68e-8d50e8bc30ca",
   "metadata": {},
   "outputs": [],
   "source": [
    "absolute_value = abs(-25)"
   ]
  },
  {
   "cell_type": "markdown",
   "id": "9b73c357-0da1-4375-bdca-57487f8b504a",
   "metadata": {},
   "source": [
    "# Exercise 41"
   ]
  },
  {
   "cell_type": "code",
   "execution_count": null,
   "id": "09f31e94-a061-4401-b08c-c1a202af162a",
   "metadata": {},
   "outputs": [],
   "source": [
    "floor_div_result = 100 // 6"
   ]
  },
  {
   "cell_type": "markdown",
   "id": "a8688030-f5e3-45be-9b6d-2688ec7df68c",
   "metadata": {},
   "source": [
    "# Exercise 42"
   ]
  },
  {
   "cell_type": "code",
   "execution_count": null,
   "id": "bd858843-6f24-4d02-ac7a-f42f0c2305d2",
   "metadata": {},
   "outputs": [],
   "source": [
    "mixed_sum = 10 + 3.5"
   ]
  },
  {
   "cell_type": "markdown",
   "id": "7a73d520-1340-4a5e-a15f-11a3988cbbd4",
   "metadata": {},
   "source": [
    "# Exercise 43"
   ]
  },
  {
   "cell_type": "code",
   "execution_count": null,
   "id": "02478586-03fa-40f8-8368-40eb18e5cab4",
   "metadata": {},
   "outputs": [],
   "source": [
    "greeting_start = \"Good\"\n",
    "greeting_end = \" Morning\"\n",
    "full_greeting = greeting_start + greeting_end"
   ]
  },
  {
   "cell_type": "markdown",
   "id": "b8cd1c88-13a8-4dd7-9ca6-b93afa360c0a",
   "metadata": {},
   "source": [
    "# Exercise 44"
   ]
  },
  {
   "cell_type": "code",
   "execution_count": null,
   "id": "6bf7f460-b822-43d4-a6d1-54f362b1ca7e",
   "metadata": {},
   "outputs": [],
   "source": [
    "empty_list = []"
   ]
  },
  {
   "cell_type": "markdown",
   "id": "9f862cf4-818c-4465-bffd-e848bf6b2b89",
   "metadata": {},
   "source": [
    "# Exercise 45"
   ]
  },
  {
   "cell_type": "markdown",
   "id": "ce0fc09f-9036-4f57-a00d-8ceffe073295",
   "metadata": {},
   "source": [
    "a = 10\n",
    "b = 15\n",
    "is_a_less = a < b"
   ]
  },
  {
   "cell_type": "markdown",
   "id": "322ef24d-9a5a-49a6-9a08-866c42c109f7",
   "metadata": {},
   "source": [
    "# Exercise 46"
   ]
  },
  {
   "cell_type": "code",
   "execution_count": 173,
   "id": "4c9e9263-9574-4f80-a152-ef64f58d3fa5",
   "metadata": {},
   "outputs": [],
   "source": [
    "long_sentence = \"Python is a versatile programming language loved by many.\"\n",
    "char_count = len(long_sentence)"
   ]
  },
  {
   "cell_type": "markdown",
   "id": "97ee16f3-2e2f-40e5-be3f-a96a0b0e1702",
   "metadata": {},
   "source": [
    "# Exercise 47"
   ]
  },
  {
   "cell_type": "code",
   "execution_count": null,
   "id": "9e2f4aa0-9af4-461a-be00-8b5dc87cfbb5",
   "metadata": {},
   "outputs": [],
   "source": [
    "division_result = 7 / 3"
   ]
  },
  {
   "cell_type": "markdown",
   "id": "e2e35847-e854-4ad7-9a7f-593ec37519b9",
   "metadata": {},
   "source": [
    "# Exercise 48"
   ]
  },
  {
   "cell_type": "code",
   "execution_count": null,
   "id": "bc894438-8e0f-4497-ae21-c471cc41190f",
   "metadata": {},
   "outputs": [],
   "source": [
    "speed = 100  # km/h"
   ]
  },
  {
   "cell_type": "markdown",
   "id": "710a2940-4ee3-4ead-9335-034ac35efc33",
   "metadata": {},
   "source": [
    "# Exercise 49"
   ]
  },
  {
   "cell_type": "code",
   "execution_count": null,
   "id": "a378ac57-d612-4bf2-8a70-9ea7754f1971",
   "metadata": {},
   "outputs": [],
   "source": [
    "x = 4\n",
    "y = 3 * x + 5"
   ]
  },
  {
   "cell_type": "markdown",
   "id": "323a2fa1-f644-4af0-82ed-43cbf2707373",
   "metadata": {},
   "source": [
    "# Exercise 50"
   ]
  },
  {
   "cell_type": "code",
   "execution_count": 163,
   "id": "96538e87-6877-47f7-82dc-b3784136090b",
   "metadata": {},
   "outputs": [],
   "source": [
    "num1 = 10\n",
    "num2 = 20\n",
    "num3 = 30\n",
    "average = (num1 + num2 + num3) / 3"
   ]
  }
 ],
 "metadata": {
  "kernelspec": {
   "display_name": "Python 3 (ipykernel)",
   "language": "python",
   "name": "python3"
  },
  "language_info": {
   "codemirror_mode": {
    "name": "ipython",
    "version": 3
   },
   "file_extension": ".py",
   "mimetype": "text/x-python",
   "name": "python",
   "nbconvert_exporter": "python",
   "pygments_lexer": "ipython3",
   "version": "3.12.7"
  }
 },
 "nbformat": 4,
 "nbformat_minor": 5
}
