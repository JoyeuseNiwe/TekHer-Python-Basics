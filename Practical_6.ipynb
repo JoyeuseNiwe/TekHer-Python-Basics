{
 "cells": [
  {
   "cell_type": "markdown",
   "id": "bd6f6199",
   "metadata": {},
   "source": [
    "# Practical_6: Numpy"
   ]
  },
  {
   "cell_type": "code",
   "execution_count": 5,
   "id": "f9f43df2-1a6e-4f19-aac0-29129ea50e3c",
   "metadata": {},
   "outputs": [],
   "source": [
    "import numpy as np"
   ]
  },
  {
   "cell_type": "markdown",
   "id": "de325ed6",
   "metadata": {},
   "source": [
    "---\n",
    "\n",
    "### Exercise 1:\n",
    "Create a NumPy array of integers from 1 to 10.\n"
   ]
  },
  {
   "cell_type": "code",
   "execution_count": 7,
   "id": "9b904697",
   "metadata": {},
   "outputs": [
    {
     "data": {
      "text/plain": [
       "array([ 1,  2,  3,  4,  5,  6,  7,  8,  9, 10])"
      ]
     },
     "execution_count": 7,
     "metadata": {},
     "output_type": "execute_result"
    }
   ],
   "source": [
    "arr = np.arange(1,11)\n",
    "arr"
   ]
  },
  {
   "cell_type": "markdown",
   "id": "745710c7",
   "metadata": {},
   "source": [
    "\n",
    "---\n",
    "\n",
    "### Exercise 2:\n",
    "Create a 3x3 NumPy array filled with zeros.\n"
   ]
  },
  {
   "cell_type": "code",
   "execution_count": 9,
   "id": "875235f1",
   "metadata": {},
   "outputs": [
    {
     "data": {
      "text/plain": [
       "array([[0., 0., 0.],\n",
       "       [0., 0., 0.],\n",
       "       [0., 0., 0.]])"
      ]
     },
     "execution_count": 9,
     "metadata": {},
     "output_type": "execute_result"
    }
   ],
   "source": [
    "a = np.zeros((3,3))\n",
    "a"
   ]
  },
  {
   "cell_type": "markdown",
   "id": "a542ea80",
   "metadata": {},
   "source": [
    "\n",
    "---\n",
    "\n",
    "### Exercise 3:\n",
    "Create a NumPy array of 10 evenly spaced numbers between 0 and 5.\n"
   ]
  },
  {
   "cell_type": "code",
   "execution_count": 11,
   "id": "97c6ba4a",
   "metadata": {},
   "outputs": [
    {
     "data": {
      "text/plain": [
       "array([0.        , 0.55555556, 1.11111111, 1.66666667, 2.22222222,\n",
       "       2.77777778, 3.33333333, 3.88888889, 4.44444444, 5.        ])"
      ]
     },
     "execution_count": 11,
     "metadata": {},
     "output_type": "execute_result"
    }
   ],
   "source": [
    "b = np.linspace(0,5,10)\n",
    "b"
   ]
  },
  {
   "cell_type": "markdown",
   "id": "e92d80cc",
   "metadata": {},
   "source": [
    "\n",
    "---\n",
    "\n",
    "### Exercise 4:\n",
    "Create a 5x5 identity matrix using NumPy.\n"
   ]
  },
  {
   "cell_type": "code",
   "execution_count": 13,
   "id": "c5213bd2",
   "metadata": {},
   "outputs": [
    {
     "data": {
      "text/plain": [
       "array([[1., 0., 0., 0., 0.],\n",
       "       [0., 1., 0., 0., 0.],\n",
       "       [0., 0., 1., 0., 0.],\n",
       "       [0., 0., 0., 1., 0.],\n",
       "       [0., 0., 0., 0., 1.]])"
      ]
     },
     "execution_count": 13,
     "metadata": {},
     "output_type": "execute_result"
    }
   ],
   "source": [
    "c = np.eye(5)\n",
    "c"
   ]
  },
  {
   "cell_type": "markdown",
   "id": "a16f88e7",
   "metadata": {},
   "source": [
    "\n",
    "---\n",
    "\n",
    "### Exercise 5:\n",
    "Create a 4x4 matrix with random values between 0 and 1.\n"
   ]
  },
  {
   "cell_type": "code",
   "execution_count": 15,
   "id": "2b16922b",
   "metadata": {},
   "outputs": [
    {
     "data": {
      "text/plain": [
       "array([[0.43187977, 0.01977001, 0.07799016, 0.4847822 ],\n",
       "       [0.51966159, 0.77432214, 0.11685705, 0.00739997],\n",
       "       [0.69143167, 0.95911066, 0.5928287 , 0.09182471],\n",
       "       [0.77980184, 0.95543239, 0.80624097, 0.82173772]])"
      ]
     },
     "execution_count": 15,
     "metadata": {},
     "output_type": "execute_result"
    }
   ],
   "source": [
    "rand_matrix= np.random.rand(4,4)\n",
    "rand_matrix"
   ]
  },
  {
   "cell_type": "markdown",
   "id": "cc9af8fd",
   "metadata": {},
   "source": [
    "\n",
    "---\n",
    "\n",
    "### Exercise 6:\n",
    "Find the shape of a NumPy array.\n"
   ]
  },
  {
   "cell_type": "code",
   "execution_count": 17,
   "id": "359864d2",
   "metadata": {},
   "outputs": [
    {
     "name": "stdout",
     "output_type": "stream",
     "text": [
      "(4,)\n"
     ]
    }
   ],
   "source": [
    "arr_shape = np.arange(1,5)\n",
    "print(arr_shape.shape)\n",
    "#arr_shape = np.shape()"
   ]
  },
  {
   "cell_type": "markdown",
   "id": "ada0aff6",
   "metadata": {},
   "source": [
    "\n",
    "---\n",
    "\n",
    "### Exercise 7:\n",
    "Reshape a 1D NumPy array of 16 elements into a 4x4 matrix.\n"
   ]
  },
  {
   "cell_type": "code",
   "execution_count": 19,
   "id": "43fcb4b3",
   "metadata": {},
   "outputs": [
    {
     "data": {
      "text/plain": [
       "array([[ 0,  1,  2,  3],\n",
       "       [ 4,  5,  6,  7],\n",
       "       [ 8,  9, 10, 11],\n",
       "       [12, 13, 14, 15]])"
      ]
     },
     "execution_count": 19,
     "metadata": {},
     "output_type": "execute_result"
    }
   ],
   "source": [
    "ele = np.arange(0,16).reshape(4,4)\n",
    "ele"
   ]
  },
  {
   "cell_type": "markdown",
   "id": "d384142a",
   "metadata": {},
   "source": [
    "\n",
    "---\n",
    "\n",
    "### Exercise 8:\n",
    "Find the data type of the elements in a NumPy array.\n"
   ]
  },
  {
   "cell_type": "code",
   "execution_count": 21,
   "id": "bf4dca5a",
   "metadata": {},
   "outputs": [
    {
     "name": "stdout",
     "output_type": "stream",
     "text": [
      "<class 'numpy.ndarray'>\n"
     ]
    }
   ],
   "source": [
    "ele_type = np.arange(0,5)\n",
    "print(type(ele_type))"
   ]
  },
  {
   "cell_type": "markdown",
   "id": "c295ca54",
   "metadata": {},
   "source": [
    "\n",
    "---\n",
    "\n",
    "### Exercise 9:\n",
    "Create a NumPy array of integers from 1 to 100 and find all even numbers in the array.\n"
   ]
  },
  {
   "cell_type": "code",
   "execution_count": 23,
   "id": "28a61c5e",
   "metadata": {},
   "outputs": [
    {
     "name": "stdout",
     "output_type": "stream",
     "text": [
      "[  2   4   6   8  10  12  14  16  18  20  22  24  26  28  30  32  34  36\n",
      "  38  40  42  44  46  48  50  52  54  56  58  60  62  64  66  68  70  72\n",
      "  74  76  78  80  82  84  86  88  90  92  94  96  98 100]\n"
     ]
    }
   ],
   "source": [
    "arr = np.arange(1,101)\n",
    "even_nbr = arr[arr % 2 == 0]\n",
    "print(even_nbr)"
   ]
  },
  {
   "cell_type": "markdown",
   "id": "72103956",
   "metadata": {},
   "source": [
    "\n",
    "---\n",
    "\n",
    "### Exercise 10:\n",
    "Generate a 6x6 matrix of random integers between 10 and 50.\n"
   ]
  },
  {
   "cell_type": "code",
   "execution_count": 25,
   "id": "ce04300e",
   "metadata": {},
   "outputs": [
    {
     "data": {
      "text/plain": [
       "array([[36, 24, 45, 48, 49, 31],\n",
       "       [19, 42, 20, 33, 42, 34],\n",
       "       [34, 13, 16, 45, 47, 15],\n",
       "       [21, 16, 17, 46, 21, 41],\n",
       "       [30, 37, 23, 22, 25, 42],\n",
       "       [24, 35, 31, 41, 43, 49]])"
      ]
     },
     "execution_count": 25,
     "metadata": {},
     "output_type": "execute_result"
    }
   ],
   "source": [
    "p = np.random.randint(10,50 ,size= (6,6))\n",
    "p"
   ]
  },
  {
   "cell_type": "markdown",
   "id": "3dd1a085",
   "metadata": {},
   "source": [
    "\n",
    "---\n",
    "\n",
    "### Exercise 11:\n",
    "Slice a 2D NumPy array to extract a submatrix.\n"
   ]
  },
  {
   "cell_type": "code",
   "execution_count": 27,
   "id": "b8fc90ba",
   "metadata": {},
   "outputs": [
    {
     "data": {
      "text/plain": [
       "array([[ 1,  2,  3],\n",
       "       [ 6,  7,  8],\n",
       "       [11, 12, 13]])"
      ]
     },
     "execution_count": 27,
     "metadata": {},
     "output_type": "execute_result"
    }
   ],
   "source": [
    "arr = np.arange(1,26).reshape(5,5)\n",
    "arr\n",
    "submatrix = arr[0:3,0:3]\n",
    "submatrix"
   ]
  },
  {
   "cell_type": "markdown",
   "id": "73a4344c",
   "metadata": {},
   "source": [
    "\n",
    "---\n",
    "\n",
    "### Exercise 12:\n",
    "Calculate the sum of all elements in a NumPy array.\n"
   ]
  },
  {
   "cell_type": "code",
   "execution_count": 29,
   "id": "3c417ff3",
   "metadata": {},
   "outputs": [
    {
     "name": "stdout",
     "output_type": "stream",
     "text": [
      "435\n"
     ]
    }
   ],
   "source": [
    "sum_arr = np.arange(1,30)\n",
    "print(np.sum(sum_arr))"
   ]
  },
  {
   "cell_type": "markdown",
   "id": "c2346362",
   "metadata": {},
   "source": [
    "\n",
    "---\n",
    "\n",
    "### Exercise 13:\n",
    "Calculate the mean, median, and standard deviation of a NumPy array.\n"
   ]
  },
  {
   "cell_type": "code",
   "execution_count": 31,
   "id": "95e57182",
   "metadata": {},
   "outputs": [
    {
     "name": "stdout",
     "output_type": "stream",
     "text": [
      "8.0\n",
      "8.0\n",
      "4.898979485566356\n"
     ]
    }
   ],
   "source": [
    "z = np.arange(0,17)\n",
    "mean = np.mean(z)\n",
    "median = np.median(z)\n",
    "st_deviation = np.std(z)\n",
    "print(mean)\n",
    "print(median)\n",
    "print(st_deviation)"
   ]
  },
  {
   "cell_type": "markdown",
   "id": "67a4fdbd",
   "metadata": {},
   "source": [
    "\n",
    "---\n",
    "\n",
    "### Exercise 14:\n",
    "Find the maximum and minimum values in a NumPy array.\n"
   ]
  },
  {
   "cell_type": "code",
   "execution_count": 33,
   "id": "7959c765",
   "metadata": {},
   "outputs": [
    {
     "name": "stdout",
     "output_type": "stream",
     "text": [
      "maximum value is: 21\n",
      "minimum value is: 2\n"
     ]
    }
   ],
   "source": [
    "values = np.arange(2,22)\n",
    "max_nbr = np.max(values)\n",
    "min_nbr = np.min(values)\n",
    "print(\"maximum value is:\", max_nbr)\n",
    "print(\"minimum value is:\",min_nbr)"
   ]
  },
  {
   "cell_type": "markdown",
   "id": "8a705cd1",
   "metadata": {},
   "source": [
    "\n",
    "---\n",
    "\n",
    "### Exercise 15:\n",
    "Create a NumPy array of 20 random integers and find the index of the maximum value.\n"
   ]
  },
  {
   "cell_type": "code",
   "execution_count": 35,
   "id": "c6748d73",
   "metadata": {},
   "outputs": [
    {
     "name": "stdout",
     "output_type": "stream",
     "text": [
      "[ 9  9 21 27 13 29 13 21  4  1 29  0  9 17  6  1 14 29 17 10]\n",
      "Index of max value: 5\n"
     ]
    }
   ],
   "source": [
    "val = np.random.randint(0,30 , size = 20)\n",
    "max_int = np.argmax(val)\n",
    "print(val)\n",
    "print(\"Index of max value:\", max_int)"
   ]
  },
  {
   "cell_type": "markdown",
   "id": "467ca6ac",
   "metadata": {},
   "source": [
    "\n",
    "---\n",
    "\n",
    "### Exercise 16:\n",
    "Create a NumPy array and reverse its elements.\n"
   ]
  },
  {
   "cell_type": "code",
   "execution_count": 37,
   "id": "0a178eb6",
   "metadata": {},
   "outputs": [
    {
     "data": {
      "text/plain": [
       "array([9, 8, 7, 6, 5, 4, 3, 2, 1, 0])"
      ]
     },
     "execution_count": 37,
     "metadata": {},
     "output_type": "execute_result"
    }
   ],
   "source": [
    "z = np.arange(10)\n",
    "reverse_z = z[::-1]\n",
    "reverse_z\n"
   ]
  },
  {
   "cell_type": "markdown",
   "id": "b7d8ec92",
   "metadata": {},
   "source": [
    "\n",
    "---\n",
    "\n",
    "### Exercise 17:\n",
    "Create a 3x3 matrix and multiply it element-wise by another 3x3 matrix.\n"
   ]
  },
  {
   "cell_type": "code",
   "execution_count": 39,
   "id": "847ddc05",
   "metadata": {},
   "outputs": [
    {
     "data": {
      "text/plain": [
       "array([[ 9, 16, 21],\n",
       "       [24, 25, 24],\n",
       "       [21, 16,  9]])"
      ]
     },
     "execution_count": 39,
     "metadata": {},
     "output_type": "execute_result"
    }
   ],
   "source": [
    "matrix1 = np.array([[1, 2, 3],\n",
    "                    [4, 5, 6],\n",
    "                    [7, 8, 9]])\n",
    "\n",
    "matrix2 = np.array([[9, 8, 7],\n",
    "                    [6, 5, 4],\n",
    "                    [3, 2, 1]])\n",
    "result = matrix1 * matrix2\n",
    "result"
   ]
  },
  {
   "cell_type": "markdown",
   "id": "58512446",
   "metadata": {},
   "source": [
    "\n",
    "---\n",
    "\n",
    "### Exercise 18:\n",
    "Create a diagonal matrix from a given 1D array.\n"
   ]
  },
  {
   "cell_type": "code",
   "execution_count": 41,
   "id": "bd7e9321",
   "metadata": {},
   "outputs": [
    {
     "data": {
      "text/plain": [
       "array([[2, 0, 0, 0, 0],\n",
       "       [0, 4, 0, 0, 0],\n",
       "       [0, 0, 5, 0, 0],\n",
       "       [0, 0, 0, 1, 0],\n",
       "       [0, 0, 0, 0, 0]])"
      ]
     },
     "execution_count": 41,
     "metadata": {},
     "output_type": "execute_result"
    }
   ],
   "source": [
    "matr =  np.array([2,4,5,1,0])\n",
    "diagonal_matrix = np.diag(matr)\n",
    "diagonal_matrix"
   ]
  },
  {
   "cell_type": "markdown",
   "id": "10be19e0",
   "metadata": {},
   "source": [
    "\n",
    "---\n",
    "\n",
    "### Exercise 19:\n",
    "Perform matrix multiplication on two 2D NumPy arrays.\n"
   ]
  },
  {
   "cell_type": "code",
   "execution_count": 43,
   "id": "c287973c",
   "metadata": {},
   "outputs": [
    {
     "data": {
      "text/plain": [
       "array([[ 8,  9,  1],\n",
       "       [25, 32, 14],\n",
       "       [ 0,  0,  0]])"
      ]
     },
     "execution_count": 43,
     "metadata": {},
     "output_type": "execute_result"
    }
   ],
   "source": [
    "h = np.array([[2,3,1],\n",
    "             [5,4,2],\n",
    "             [8,6,0]])\n",
    "g = np.array([[4,3,1],\n",
    "             [5,8,7],\n",
    "             [0,0,1]])\n",
    "result = np.multiply(h,g)\n",
    "result"
   ]
  },
  {
   "cell_type": "markdown",
   "id": "932aa100",
   "metadata": {},
   "source": [
    "\n",
    "---\n",
    "\n",
    "### Exercise 20:\n",
    "Flatten a 2D NumPy array into a 1D array.\n"
   ]
  },
  {
   "cell_type": "code",
   "execution_count": 45,
   "id": "0b2a7505",
   "metadata": {},
   "outputs": [
    {
     "data": {
      "text/plain": [
       "array([1, 2, 3, 4, 5, 6, 7, 8, 9])"
      ]
     },
     "execution_count": 45,
     "metadata": {},
     "output_type": "execute_result"
    }
   ],
   "source": [
    "arr_2d = np.array([[1, 2, 3],\n",
    "                   [4, 5, 6],\n",
    "                   [7, 8, 9]])\n",
    "flat_arr = arr_2d.flatten()\n",
    "flat_arr"
   ]
  },
  {
   "cell_type": "markdown",
   "id": "43e4204e",
   "metadata": {},
   "source": [
    "\n",
    "---\n",
    "\n",
    "### Exercise 21:\n",
    "Stack two NumPy arrays vertically.\n"
   ]
  },
  {
   "cell_type": "code",
   "execution_count": 47,
   "id": "2fab6ed6",
   "metadata": {},
   "outputs": [
    {
     "data": {
      "text/plain": [
       "array([[1, 2],\n",
       "       [3, 4],\n",
       "       [5, 6],\n",
       "       [7, 8]])"
      ]
     },
     "execution_count": 47,
     "metadata": {},
     "output_type": "execute_result"
    }
   ],
   "source": [
    "a = np.array([[1, 2], [3, 4]])\n",
    "b = np.array([[5, 6], [7, 8]])\n",
    "\n",
    "stacked = np.vstack((a, b))\n",
    "stacked"
   ]
  },
  {
   "cell_type": "markdown",
   "id": "54a62aed",
   "metadata": {},
   "source": [
    "\n",
    "---\n",
    "\n",
    "### Exercise 22:\n",
    "Stack two NumPy arrays horizontally.\n"
   ]
  },
  {
   "cell_type": "code",
   "execution_count": 194,
   "id": "38c62fcb",
   "metadata": {},
   "outputs": [
    {
     "data": {
      "text/plain": [
       "array([[1, 2, 5, 6],\n",
       "       [3, 4, 7, 8]])"
      ]
     },
     "execution_count": 194,
     "metadata": {},
     "output_type": "execute_result"
    }
   ],
   "source": [
    "m = np.array([[1, 2], [3, 4]])\n",
    "n = np.array([[5, 6], [7, 8]])\n",
    "\n",
    "stacked = np.hstack((m, n))\n",
    "stacked"
   ]
  },
  {
   "cell_type": "markdown",
   "id": "348ee442",
   "metadata": {},
   "source": [
    "\n",
    "---\n",
    "\n",
    "### Exercise 23:\n",
    "Split a NumPy array into multiple sub-arrays.\n"
   ]
  },
  {
   "cell_type": "code",
   "execution_count": 196,
   "id": "bb591997",
   "metadata": {},
   "outputs": [
    {
     "data": {
      "text/plain": [
       "[array([0, 1]), array([2, 3]), array([4, 5])]"
      ]
     },
     "execution_count": 196,
     "metadata": {},
     "output_type": "execute_result"
    }
   ],
   "source": [
    "arr = np.array([0, 1, 2, 3, 4, 5])\n",
    "splitted = np.split(arr, 3)\n",
    "splitted"
   ]
  },
  {
   "cell_type": "markdown",
   "id": "b1f38f5f",
   "metadata": {},
   "source": [
    "\n",
    "---\n",
    "\n",
    "### Exercise 24:\n",
    "Generate a random NumPy array and round each element to two decimal places.\n"
   ]
  },
  {
   "cell_type": "code",
   "execution_count": 198,
   "id": "9627a34c",
   "metadata": {},
   "outputs": [
    {
     "data": {
      "text/plain": [
       "array([0.87, 0.53, 0.07, 0.42, 0.55, 0.28, 0.82, 0.33, 0.48, 0.16, 0.3 ,\n",
       "       0.47, 0.26, 0.73, 0.47, 0.48, 0.85, 0.81, 0.95, 0.72])"
      ]
     },
     "execution_count": 198,
     "metadata": {},
     "output_type": "execute_result"
    }
   ],
   "source": [
    "random_arr = np.round(np.random.rand(20), 2)\n",
    "random_arr"
   ]
  },
  {
   "cell_type": "markdown",
   "id": "33eff49a",
   "metadata": {},
   "source": [
    "\n",
    "---\n",
    "\n",
    "### Exercise 25:\n",
    "Find the unique elements of a NumPy array.\n"
   ]
  },
  {
   "cell_type": "code",
   "execution_count": 202,
   "id": "820d6014",
   "metadata": {},
   "outputs": [
    {
     "data": {
      "text/plain": [
       "array([1, 2, 3, 4, 5, 6, 7, 9])"
      ]
     },
     "execution_count": 202,
     "metadata": {},
     "output_type": "execute_result"
    }
   ],
   "source": [
    "ele = np.array([1,2,3,3,1,4,5,6,6,7,9])\n",
    "unique_ele = np.unique(ele)\n",
    "unique_ele"
   ]
  },
  {
   "cell_type": "markdown",
   "id": "a82dfd26",
   "metadata": {},
   "source": [
    "\n",
    "---\n",
    "\n",
    "### Exercise 26:\n",
    "Replace all elements in a NumPy array that are less than a specific value with that value.\n"
   ]
  },
  {
   "cell_type": "code",
   "execution_count": 204,
   "id": "9317d8ff",
   "metadata": {},
   "outputs": [
    {
     "name": "stdout",
     "output_type": "stream",
     "text": [
      "[10 12 10 15 10]\n"
     ]
    }
   ],
   "source": [
    "arr = np.array([3, 12, 7, 15, 9])\n",
    "arr[arr < 10] = 10\n",
    "print(arr)"
   ]
  },
  {
   "cell_type": "markdown",
   "id": "0b211e1c",
   "metadata": {},
   "source": [
    "\n",
    "---\n",
    "\n",
    "### Exercise 27:\n",
    "Find the cumulative sum of the elements in a NumPy array.\n"
   ]
  },
  {
   "cell_type": "code",
   "execution_count": 208,
   "id": "d03b7264",
   "metadata": {},
   "outputs": [
    {
     "data": {
      "text/plain": [
       "array([ 1,  4,  8, 13, 20, 28])"
      ]
     },
     "execution_count": 208,
     "metadata": {},
     "output_type": "execute_result"
    }
   ],
   "source": [
    "p = np.array([1,3,4,5,7,8])\n",
    "cumu_sum = np.cumsum(p)\n",
    "cumu_sum"
   ]
  },
  {
   "cell_type": "markdown",
   "id": "837642b7",
   "metadata": {},
   "source": [
    "\n",
    "---\n",
    "\n",
    "### Exercise 28:\n",
    "Create a NumPy array and find the number of non-zero elements in it.\n"
   ]
  },
  {
   "cell_type": "code",
   "execution_count": 210,
   "id": "fa2565c6",
   "metadata": {},
   "outputs": [
    {
     "name": "stdout",
     "output_type": "stream",
     "text": [
      "Array: [0 1 2 0 3 0 4]\n",
      "Number of non-zero elements: 4\n"
     ]
    }
   ],
   "source": [
    "arr = np.array([0, 1, 2, 0, 3, 0, 4])\n",
    "non_zero_count = np.count_nonzero(arr)\n",
    "print(\"Array:\", arr)\n",
    "print(\"Number of non-zero elements:\", non_zero_count)"
   ]
  },
  {
   "cell_type": "markdown",
   "id": "7d1f3704",
   "metadata": {},
   "source": [
    "\n",
    "---\n",
    "\n",
    "### Exercise 29:\n",
    "Create a NumPy array of random integers and sort it in ascending order.\n"
   ]
  },
  {
   "cell_type": "code",
   "execution_count": 212,
   "id": "dfa23a6e",
   "metadata": {},
   "outputs": [
    {
     "data": {
      "text/plain": [
       "array([ 0,  1,  2,  6, 13, 13, 14, 17, 18, 19])"
      ]
     },
     "execution_count": 212,
     "metadata": {},
     "output_type": "execute_result"
    }
   ],
   "source": [
    "y = np.random.randint(0, 20, size=10)\n",
    "y_sorted = np.sort(y)\n",
    "y_sorted"
   ]
  },
  {
   "cell_type": "markdown",
   "id": "295b7ea8",
   "metadata": {},
   "source": [
    "\n",
    "---\n",
    "\n",
    "### Exercise 30:\n",
    "Find the row-wise and column-wise sum of a 3x3 matrix.\n"
   ]
  },
  {
   "cell_type": "code",
   "execution_count": 218,
   "id": "963df701",
   "metadata": {},
   "outputs": [
    {
     "name": "stdout",
     "output_type": "stream",
     "text": [
      "Matrix:\n",
      " [[1 2 3]\n",
      " [4 5 6]\n",
      " [7 8 9]]\n",
      "Row-wise sums: [ 6 15 24]\n",
      "Column-wise sums: [12 15 18]\n"
     ]
    }
   ],
   "source": [
    "matrix = np.array([[1, 2, 3],\n",
    "                   [4, 5, 6],\n",
    "                   [7, 8, 9]])\n",
    "row_sums = np.sum(matrix, axis=1)\n",
    "col_sums = np.sum(matrix, axis=0)\n",
    "print(\"Matrix:\\n\", matrix)\n",
    "print(\"Row-wise sums:\", row_sums)\n",
    "print(\"Column-wise sums:\", col_sums)"
   ]
  },
  {
   "cell_type": "markdown",
   "id": "158756fa",
   "metadata": {},
   "source": [
    "\n",
    "---\n",
    "\n",
    "### Exercise 31:\n",
    "Generate a 2D NumPy array with random values and normalize it (scale the values between 0 and 1).\n"
   ]
  },
  {
   "cell_type": "code",
   "execution_count": 220,
   "id": "32ba8b29",
   "metadata": {},
   "outputs": [
    {
     "name": "stdout",
     "output_type": "stream",
     "text": [
      "Original array:\n",
      " [[ 2 14 95 10]\n",
      " [30 41 64 51]\n",
      " [16 76 52 13]]\n",
      "\n",
      "Normalized array:\n",
      " [[0.         0.12903226 1.         0.08602151]\n",
      " [0.30107527 0.41935484 0.66666667 0.52688172]\n",
      " [0.15053763 0.79569892 0.53763441 0.11827957]]\n"
     ]
    }
   ],
   "source": [
    "arr = np.random.randint(0, 100, size=(3, 4))\n",
    "print(\"Original array:\\n\", arr)\n",
    "# Normalize the array to range [0, 1]\n",
    "arr_norm = (arr - arr.min()) / (arr.max() - arr.min())\n",
    "print(\"\\nNormalized array:\\n\", arr_norm)\n"
   ]
  },
  {
   "cell_type": "markdown",
   "id": "d3eeceaa",
   "metadata": {},
   "source": [
    "\n",
    "---\n",
    "\n",
    "### Exercise 32:\n",
    "Create two NumPy arrays and find the dot product.\n"
   ]
  },
  {
   "cell_type": "code",
   "execution_count": 222,
   "id": "5722e16b",
   "metadata": {},
   "outputs": [
    {
     "data": {
      "text/plain": [
       "39"
      ]
     },
     "execution_count": 222,
     "metadata": {},
     "output_type": "execute_result"
    }
   ],
   "source": [
    "a = np.array([1,2,3])\n",
    "b = np.array([3,9,6])\n",
    "dot_pro = np.dot(a,b)\n",
    "dot_pro"
   ]
  },
  {
   "cell_type": "markdown",
   "id": "5b0c848f",
   "metadata": {},
   "source": [
    "\n",
    "---\n",
    "\n",
    "### Exercise 33:\n",
    "Find the trace of a square NumPy matrix.\n"
   ]
  },
  {
   "cell_type": "code",
   "execution_count": 224,
   "id": "6d6e90c2",
   "metadata": {},
   "outputs": [
    {
     "data": {
      "text/plain": [
       "6"
      ]
     },
     "execution_count": 224,
     "metadata": {},
     "output_type": "execute_result"
    }
   ],
   "source": [
    "matrix = np.array([[1, 2],\n",
    "                   [4, 5]])\n",
    "trace_matrix = np.trace(matrix)\n",
    "trace_matrix"
   ]
  },
  {
   "cell_type": "markdown",
   "id": "74f1f77e",
   "metadata": {},
   "source": [
    "\n",
    "---\n",
    "\n",
    "### Exercise 34:\n",
    "Create a 2D array and swap two rows.\n"
   ]
  },
  {
   "cell_type": "code",
   "execution_count": 232,
   "id": "24621129",
   "metadata": {},
   "outputs": [
    {
     "name": "stdout",
     "output_type": "stream",
     "text": [
      "Original array:\n",
      " [[1 2 3]\n",
      " [4 5 6]\n",
      " [7 8 9]]\n",
      "\n",
      "Array after swapping row 0 and row 1:\n",
      " [[7 8 9]\n",
      " [4 5 6]\n",
      " [1 2 3]]\n"
     ]
    }
   ],
   "source": [
    "arr = np.array([[1, 2, 3],\n",
    "                [4, 5, 6],\n",
    "                [7, 8, 9]])\n",
    "\n",
    "print(\"Original array:\\n\", arr)\n",
    "arr[[0, 2]] = arr[[2, 0]]\n",
    "print(\"\\nArray after swapping row 0 and row 1:\\n\", arr)\n"
   ]
  },
  {
   "cell_type": "markdown",
   "id": "7875d348",
   "metadata": {},
   "source": [
    "\n",
    "---\n",
    "\n",
    "### Exercise 35:\n",
    "Create a 1D NumPy array and convert it into a column vector.\n"
   ]
  },
  {
   "cell_type": "code",
   "execution_count": 234,
   "id": "0039acda",
   "metadata": {},
   "outputs": [
    {
     "name": "stdout",
     "output_type": "stream",
     "text": [
      "Original 1D array:\n",
      " [1 2 3 4 5]\n",
      "\n",
      "Column vector:\n",
      " [[1]\n",
      " [2]\n",
      " [3]\n",
      " [4]\n",
      " [5]]\n",
      "Shape: (5, 1)\n"
     ]
    }
   ],
   "source": [
    "arr = np.array([1, 2, 3, 4, 5])\n",
    "print(\"Original 1D array:\\n\", arr)\n",
    "col_vector = arr.reshape(-1, 1)\n",
    "print(\"\\nColumn vector:\\n\", col_vector)\n",
    "print(\"Shape:\", col_vector.shape)"
   ]
  },
  {
   "cell_type": "markdown",
   "id": "234e605c",
   "metadata": {},
   "source": [
    "\n",
    "---\n",
    "\n",
    "### Exercise 36:\n",
    "Find the determinant of a 3x3 matrix.\n"
   ]
  },
  {
   "cell_type": "code",
   "execution_count": 228,
   "id": "9798d9c7",
   "metadata": {},
   "outputs": [
    {
     "data": {
      "text/plain": [
       "52.999999999999986"
      ]
     },
     "execution_count": 228,
     "metadata": {},
     "output_type": "execute_result"
    }
   ],
   "source": [
    "matrix = np.array([[1,2,3],\n",
    "                 [2,1,4],\n",
    "                 [7,9,0]])\n",
    "det_matrix = np.linalg.det(matrix)\n",
    "det_matrix"
   ]
  },
  {
   "cell_type": "markdown",
   "id": "6656af00",
   "metadata": {},
   "source": [
    "\n",
    "---\n",
    "\n",
    "### Exercise 37:\n",
    "Find the eigenvalues and eigenvectors of a 2x2 matrix.\n"
   ]
  },
  {
   "cell_type": "code",
   "execution_count": 236,
   "id": "89d64421",
   "metadata": {},
   "outputs": [
    {
     "name": "stdout",
     "output_type": "stream",
     "text": [
      "Matrix:\n",
      " [[4 2]\n",
      " [1 3]]\n",
      "\n",
      "Eigenvalues:\n",
      " [5. 2.]\n",
      "\n",
      "Eigenvectors:\n",
      " [[ 0.89442719 -0.70710678]\n",
      " [ 0.4472136   0.70710678]]\n"
     ]
    }
   ],
   "source": [
    "matrix = np.array([[4, 2],\n",
    "                   [1, 3]])\n",
    "\n",
    "eigenvalues, eigenvectors = np.linalg.eig(matrix)\n",
    "\n",
    "print(\"Matrix:\\n\", matrix)\n",
    "print(\"\\nEigenvalues:\\n\", eigenvalues)\n",
    "print(\"\\nEigenvectors:\\n\", eigenvectors)"
   ]
  },
  {
   "cell_type": "markdown",
   "id": "7dc92bbb",
   "metadata": {},
   "source": [
    "\n",
    "---\n",
    "\n",
    "### Exercise 38:\n",
    "Solve a system of linear equations using NumPy.\n"
   ]
  },
  {
   "cell_type": "code",
   "execution_count": 238,
   "id": "9aad2d7e",
   "metadata": {},
   "outputs": [
    {
     "name": "stdout",
     "output_type": "stream",
     "text": [
      "Solution [x, y]: [1.46153846 1.69230769]\n"
     ]
    }
   ],
   "source": [
    "# Coefficient matrix (A)\n",
    "A = np.array([[2, 3],\n",
    "              [5, 1]])\n",
    "\n",
    "# Constants vector (b)\n",
    "b = np.array([8, 9])\n",
    "\n",
    "# Solve for [x, y]\n",
    "solution = np.linalg.solve(A, b)\n",
    "\n",
    "print(\"Solution [x, y]:\", solution)"
   ]
  },
  {
   "cell_type": "markdown",
   "id": "4f146ae7",
   "metadata": {},
   "source": [
    "\n",
    "---\n",
    "\n",
    "### Exercise 39:\n",
    "Add Gaussian noise to a NumPy array.\n"
   ]
  },
  {
   "cell_type": "code",
   "execution_count": 240,
   "id": "1162c82d",
   "metadata": {},
   "outputs": [
    {
     "name": "stdout",
     "output_type": "stream",
     "text": [
      "Original array: [10 20 30 40 50]\n",
      "Noise: [-0.25959816  0.78876002  0.88281803  3.12554988  2.01901774]\n",
      "Noisy array: [ 9.74040184 20.78876002 30.88281803 43.12554988 52.01901774]\n"
     ]
    }
   ],
   "source": [
    "arr = np.array([10, 20, 30, 40, 50])\n",
    "# Generate Gaussian noise with mean=0 and std=2 \n",
    "noise = np.random.normal(0, 2, arr.shape)\n",
    "# Add noise to the original array\n",
    "noisy_arr = arr + noise\n",
    "\n",
    "print(\"Original array:\", arr)\n",
    "print(\"Noise:\", noise)\n",
    "print(\"Noisy array:\", noisy_arr)"
   ]
  },
  {
   "cell_type": "markdown",
   "id": "24f6d12f",
   "metadata": {},
   "source": [
    "\n",
    "---\n",
    "\n",
    "### Exercise 40:\n",
    "Create a 4x4 matrix and extract the diagonal elements.\n"
   ]
  },
  {
   "cell_type": "code",
   "execution_count": 242,
   "id": "228d823c",
   "metadata": {},
   "outputs": [
    {
     "name": "stdout",
     "output_type": "stream",
     "text": [
      "Matrix:\n",
      " [[ 1  2  3  4]\n",
      " [ 5  6  7  8]\n",
      " [ 9 10 11 12]\n",
      " [13 14 15 16]]\n",
      "Diagonal elements: [ 1  6 11 16]\n"
     ]
    }
   ],
   "source": [
    "matrix = np.array([[1, 2, 3, 4],\n",
    "                   [5, 6, 7, 8],\n",
    "                   [9, 10, 11, 12],\n",
    "                   [13, 14, 15, 16]])\n",
    "diagonal = np.diagonal(matrix)\n",
    "\n",
    "print(\"Matrix:\\n\", matrix)\n",
    "print(\"Diagonal elements:\", diagonal)"
   ]
  },
  {
   "cell_type": "markdown",
   "id": "6fe4e0e1",
   "metadata": {},
   "source": [
    "\n",
    "---\n",
    "\n",
    "### Exercise 41:\n",
    "Generate a NumPy array of 100 random values and clip the values to a range between 10 and 50.\n"
   ]
  },
  {
   "cell_type": "code",
   "execution_count": 244,
   "id": "250c818c",
   "metadata": {},
   "outputs": [
    {
     "data": {
      "text/plain": [
       "array([10.        , 44.86039874, 10.        , 50.        , 36.60274159,\n",
       "       10.        , 28.86580416, 33.59382208, 38.34036289, 10.        ,\n",
       "       50.        , 18.97728286, 50.        , 50.        , 37.16596346,\n",
       "       20.07869109, 10.        , 17.78709669, 41.33225491, 28.87309895,\n",
       "       35.12118755, 10.        , 32.13998982, 10.        , 26.79051538,\n",
       "       20.92777473, 50.        , 25.056907  , 50.        , 44.63665111,\n",
       "       10.        , 10.        , 31.24312699, 10.        , 20.75925558,\n",
       "       10.        , 39.41648378, 43.8677117 , 13.61703215, 19.51540193,\n",
       "       50.        , 20.25234753, 18.3572949 , 10.        , 42.91997354,\n",
       "       13.42768998, 50.        , 48.6490247 , 10.        , 41.85899099,\n",
       "       34.98452588, 48.84132227, 50.        , 30.38691169, 41.75755904,\n",
       "       15.65693462, 23.945186  , 32.43783542, 50.        , 27.00125085,\n",
       "       21.06056089, 50.        , 25.10323954, 23.11903912, 16.20166464,\n",
       "       50.        , 13.61282263, 10.        , 50.        , 36.0456152 ,\n",
       "       50.        , 33.00278864, 50.        , 50.        , 50.        ,\n",
       "       10.        , 10.        , 50.        , 40.9301959 , 29.77210647,\n",
       "       49.48490401, 36.61079329, 10.        , 32.37210919, 16.69146219,\n",
       "       50.        , 15.16529056, 23.96506704, 10.        , 50.        ,\n",
       "       50.        , 50.        , 24.63920141, 50.        , 50.        ,\n",
       "       23.54941884, 13.74888032, 21.70961398, 29.61128924, 10.        ])"
      ]
     },
     "execution_count": 244,
     "metadata": {},
     "output_type": "execute_result"
    }
   ],
   "source": [
    "arr = np.random.randn(100) * 20 + 30\n",
    "clipped_arr = np.clip(arr, 10, 50)\n",
    "clipped_arr"
   ]
  },
  {
   "cell_type": "markdown",
   "id": "0aa4963a",
   "metadata": {},
   "source": [
    "\n",
    "---\n",
    "\n",
    "### Exercise 42:\n",
    "Create a 2D NumPy array and replace all negative values with zero.\n"
   ]
  },
  {
   "cell_type": "code",
   "execution_count": 246,
   "id": "c33cf5e2",
   "metadata": {},
   "outputs": [
    {
     "name": "stdout",
     "output_type": "stream",
     "text": [
      "Original array:\n",
      " [[ 3 -1  4]\n",
      " [-5  9 -2]\n",
      " [ 7 -8  0]]\n",
      "\n",
      "Array after replacing negatives with zero:\n",
      " [[3 0 4]\n",
      " [0 9 0]\n",
      " [7 0 0]]\n"
     ]
    }
   ],
   "source": [
    "arr = np.array([[3, -1, 4],\n",
    "                [-5, 9, -2],\n",
    "                [7, -8, 0]])\n",
    "\n",
    "print(\"Original array:\\n\", arr)\n",
    "arr[arr < 0] = 0\n",
    "print(\"\\nArray after replacing negatives with zero:\\n\", arr)"
   ]
  },
  {
   "cell_type": "markdown",
   "id": "9902ee70",
   "metadata": {},
   "source": [
    "\n",
    "---\n",
    "\n",
    "### Exercise 43:\n",
    "Find the inner and outer products of two NumPy arrays.\n"
   ]
  },
  {
   "cell_type": "code",
   "execution_count": 248,
   "id": "36f488c8",
   "metadata": {},
   "outputs": [
    {
     "name": "stdout",
     "output_type": "stream",
     "text": [
      "Array a: [1 2 3]\n",
      "Array b: [4 5 6]\n",
      "\n",
      "Inner product: 32\n",
      "\n",
      "Outer product:\n",
      " [[ 4  5  6]\n",
      " [ 8 10 12]\n",
      " [12 15 18]]\n"
     ]
    }
   ],
   "source": [
    "a = np.array([1, 2, 3])\n",
    "b = np.array([4, 5, 6])\n",
    "inner_product = np.inner(a, b)\n",
    "outer_product = np.outer(a, b)\n",
    "print(\"Array a:\", a)\n",
    "print(\"Array b:\", b)\n",
    "print(\"\\nInner product:\", inner_product)\n",
    "print(\"\\nOuter product:\\n\", outer_product)"
   ]
  },
  {
   "cell_type": "markdown",
   "id": "7dce9fa3",
   "metadata": {},
   "source": [
    "\n",
    "---\n",
    "\n",
    "### Exercise 44:\n",
    "Calculate the pairwise distances between points in a NumPy array.\n"
   ]
  },
  {
   "cell_type": "code",
   "execution_count": 250,
   "id": "94067655",
   "metadata": {},
   "outputs": [
    {
     "name": "stdout",
     "output_type": "stream",
     "text": [
      "Points:\n",
      " [[0 0]\n",
      " [3 4]\n",
      " [6 8]]\n"
     ]
    }
   ],
   "source": [
    "points = np.array([[0, 0],\n",
    "                   [3, 4],\n",
    "                   [6, 8]])\n",
    "\n",
    "# Compute the differences between points using broadcasting\n",
    "diff = points[:, np.newaxis, :] - points[np.newaxis, :, :]  # Shape: (3, 3, 2)\n",
    "\n",
    "# Square the differences and sum over the last dimension (coordinates)\n",
    "sq_dist = np.sum(diff ** 2, axis=-1)\n",
    "\n",
    "# Take square root to get Euclidean distances\n",
    "distances = np.sqrt(sq_dist)\n",
    "\n",
    "print(\"Points:\\n\", points)"
   ]
  },
  {
   "cell_type": "markdown",
   "id": "d4b272d3",
   "metadata": {},
   "source": [
    "\n",
    "---\n",
    "\n",
    "### Exercise 45:\n",
    "Create a structured NumPy array with fields for `name`, `age`, and `height`.\n"
   ]
  },
  {
   "cell_type": "code",
   "execution_count": 252,
   "id": "9b18e4f0",
   "metadata": {},
   "outputs": [
    {
     "name": "stdout",
     "output_type": "stream",
     "text": [
      "[('Alice', 25, 5.5) ('Bob', 30, 6.1) ('Charlie', 22, 5.8)]\n",
      "\n",
      "Names: ['Alice' 'Bob' 'Charlie']\n",
      "Ages: [25 30 22]\n",
      "Heights: [5.5 6.1 5.8]\n"
     ]
    }
   ],
   "source": [
    "dtype = [('name', 'U10'),   \n",
    "         ('age', 'i4'),    \n",
    "         ('height', 'f4')]  \n",
    "data = np.array([('Alice', 25, 5.5),\n",
    "                 ('Bob', 30, 6.1),\n",
    "                 ('Charlie', 22, 5.8)], dtype=dtype)\n",
    "\n",
    "print(data)\n",
    "print(\"\\nNames:\", data['name'])\n",
    "print(\"Ages:\", data['age'])\n",
    "print(\"Heights:\", data['height'])"
   ]
  },
  {
   "cell_type": "markdown",
   "id": "577f3e80",
   "metadata": {},
   "source": [
    "\n",
    "---\n",
    "\n",
    "### Exercise 46:\n",
    "Create a 5x5 matrix of random integers and count the occurrences of each unique value.\n"
   ]
  },
  {
   "cell_type": "code",
   "execution_count": 254,
   "id": "639b01fd",
   "metadata": {},
   "outputs": [
    {
     "name": "stdout",
     "output_type": "stream",
     "text": [
      "Matrix:\n",
      " [[7 4 6 4 0]\n",
      " [0 3 9 0 2]\n",
      " [0 7 8 9 7]\n",
      " [0 7 3 8 9]\n",
      " [9 5 7 6 5]]\n",
      "\n",
      "Unique values: [0 2 3 4 5 6 7 8 9]\n",
      "Counts: [5 1 2 2 2 2 5 2 4]\n"
     ]
    }
   ],
   "source": [
    "matrix = np.random.randint(0, 10, size=(5, 5))\n",
    "print(\"Matrix:\\n\", matrix)\n",
    "unique_values, counts = np.unique(matrix, return_counts=True)\n",
    "\n",
    "print(\"\\nUnique values:\", unique_values)\n",
    "print(\"Counts:\", counts)"
   ]
  },
  {
   "cell_type": "markdown",
   "id": "e716555f",
   "metadata": {},
   "source": [
    "\n",
    "---\n",
    "\n",
    "### Exercise 47:\n",
    "Generate a random 3x3 NumPy array and subtract the mean of each row from the corresponding row.\n"
   ]
  },
  {
   "cell_type": "code",
   "execution_count": 256,
   "id": "03747d27",
   "metadata": {},
   "outputs": [
    {
     "name": "stdout",
     "output_type": "stream",
     "text": [
      "Original array:\n",
      " [[0.56299008 0.51065583 0.608208  ]\n",
      " [0.78757325 0.4866824  0.48632025]\n",
      " [0.84615904 0.26579739 0.52841041]]\n",
      "\n",
      "Row-wise means:\n",
      " [[0.56061797]\n",
      " [0.58685863]\n",
      " [0.54678895]]\n",
      "\n",
      "Array after subtracting row means:\n",
      " [[ 0.00237211 -0.04996214  0.04759003]\n",
      " [ 0.20071462 -0.10017623 -0.10053838]\n",
      " [ 0.29937009 -0.28099156 -0.01837853]]\n"
     ]
    }
   ],
   "source": [
    "arr = np.random.rand(3, 3)  \n",
    "print(\"Original array:\\n\", arr)\n",
    "\n",
    "row_means = np.mean(arr, axis=1, keepdims=True)\n",
    "centered_arr = arr - row_means\n",
    "\n",
    "print(\"\\nRow-wise means:\\n\", row_means)\n",
    "print(\"\\nArray after subtracting row means:\\n\", centered_arr)"
   ]
  },
  {
   "cell_type": "markdown",
   "id": "89148fb1",
   "metadata": {},
   "source": [
    "\n",
    "---\n",
    "\n",
    "### Exercise 48:\n",
    "Create a NumPy array of random integers and check if any of the values are greater than 50.\n"
   ]
  },
  {
   "cell_type": "code",
   "execution_count": 258,
   "id": "d329ca63",
   "metadata": {},
   "outputs": [
    {
     "name": "stdout",
     "output_type": "stream",
     "text": [
      "Array:\n",
      " [30  6 62 18 79  2  1 47 79 23]\n",
      "\n",
      "Any value greater than 50?: True\n"
     ]
    }
   ],
   "source": [
    "arr = np.random.randint(0, 101, size=10)\n",
    "\n",
    "print(\"Array:\\n\", arr)\n",
    "any_greater_than_50 = np.any(arr > 50)\n",
    "\n",
    "print(\"\\nAny value greater than 50?:\", any_greater_than_50)"
   ]
  },
  {
   "cell_type": "markdown",
   "id": "806622f5",
   "metadata": {},
   "source": [
    "\n",
    "---\n",
    "\n",
    "### Exercise 49:\n",
    "Calculate the moving average of a 1D NumPy array.\n"
   ]
  },
  {
   "cell_type": "code",
   "execution_count": 261,
   "id": "866232ff",
   "metadata": {},
   "outputs": [
    {
     "name": "stdout",
     "output_type": "stream",
     "text": [
      "Original array: [10 20 30 40 50 60]\n",
      "Moving average: [20. 30. 40. 50.]\n"
     ]
    }
   ],
   "source": [
    "arr = np.array([10, 20, 30, 40, 50, 60])\n",
    "window = 3\n",
    "# Number of values to compute\n",
    "n = len(arr) - window + 1\n",
    "moving_avg = np.array([np.mean(arr[i:i+window]) for i in range(n)])\n",
    "\n",
    "print(\"Original array:\", arr)\n",
    "print(\"Moving average:\", moving_avg)"
   ]
  },
  {
   "cell_type": "markdown",
   "id": "9313446b",
   "metadata": {},
   "source": [
    "\n",
    "---\n",
    "\n",
    "### Exercise 50:\n",
    "Find the Pearson correlation coefficient between two NumPy arrays.\n"
   ]
  },
  {
   "cell_type": "code",
   "execution_count": 263,
   "id": "09c184ab",
   "metadata": {},
   "outputs": [
    {
     "name": "stdout",
     "output_type": "stream",
     "text": [
      "Pearson correlation coefficient: 0.9999999999999999\n"
     ]
    }
   ],
   "source": [
    "x = np.array([1, 2, 3, 4, 5])\n",
    "y = np.array([2, 4, 6, 8, 10])\n",
    "\n",
    "corr_matrix = np.corrcoef(x, y)\n",
    "pearson_corr = corr_matrix[0, 1]\n",
    "\n",
    "print(\"Pearson correlation coefficient:\", pearson_corr)"
   ]
  },
  {
   "cell_type": "markdown",
   "id": "8ee11395",
   "metadata": {},
   "source": [
    "\n",
    "---\n",
    "\n",
    "### Exercise 51:\n",
    "Convert a NumPy array of radians to degrees.\n"
   ]
  },
  {
   "cell_type": "code",
   "execution_count": 265,
   "id": "34ac5b8c",
   "metadata": {},
   "outputs": [
    {
     "name": "stdout",
     "output_type": "stream",
     "text": [
      "Radians: [0.         0.52359878 0.78539816 1.57079633 3.14159265]\n",
      "Degrees: [  0.  30.  45.  90. 180.]\n"
     ]
    }
   ],
   "source": [
    "radians = np.array([0, np.pi/6, np.pi/4, np.pi/2, np.pi])\n",
    "degrees = np.degrees(radians)\n",
    "\n",
    "print(\"Radians:\", radians)\n",
    "print(\"Degrees:\", degrees)"
   ]
  },
  {
   "cell_type": "markdown",
   "id": "f4fd9563",
   "metadata": {},
   "source": [
    "\n",
    "---\n",
    "\n",
    "### Exercise 52:\n",
    "Create a random NumPy array and compute its variance and standard deviation.\n"
   ]
  },
  {
   "cell_type": "code",
   "execution_count": 267,
   "id": "0559791a",
   "metadata": {},
   "outputs": [
    {
     "name": "stdout",
     "output_type": "stream",
     "text": [
      "The array [ 1 17  9 13 11  8  2 15 10  9  3 14  3  9  1]\n",
      "The variance of array 25.955555555555556\n",
      "The standard deviation of array 5.094659513211413\n"
     ]
    }
   ],
   "source": [
    "arr = np.random.randint(1,20, size=15)\n",
    "var_arr = np.var(arr)\n",
    "std_arr = np.std(arr)\n",
    "print(\"The array\",arr)\n",
    "print(\"The variance of array\",var_arr)\n",
    "print(\"The standard deviation of array\",std_arr)"
   ]
  },
  {
   "cell_type": "markdown",
   "id": "b5bed93d",
   "metadata": {},
   "source": [
    "\n",
    "---\n",
    "\n",
    "### Exercise 53:\n",
    "Create a 2D NumPy array and find the indices of the maximum values along each axis.\n"
   ]
  },
  {
   "cell_type": "code",
   "execution_count": 273,
   "id": "37168529",
   "metadata": {},
   "outputs": [
    {
     "name": "stdout",
     "output_type": "stream",
     "text": [
      "Array:\n",
      " [[3 7 5]\n",
      " [9 2 6]\n",
      " [4 8 1]]\n",
      "Indices of max values along columns (axis=0): [1 2 1]\n",
      "Indices of max values along rows (axis=1): [1 0 1]\n"
     ]
    }
   ],
   "source": [
    "arr = np.array([[3, 7, 5],\n",
    "                [9, 2, 6],\n",
    "                [4, 8, 1]])\n",
    "max_indices_col = np.argmax(arr, axis=0)\n",
    "max_indices_row = np.argmax(arr, axis=1)\n",
    "\n",
    "print(\"Array:\\n\", arr)\n",
    "print(\"Indices of max values along columns (axis=0):\", max_indices_col)\n",
    "print(\"Indices of max values along rows (axis=1):\", max_indices_row)"
   ]
  },
  {
   "cell_type": "markdown",
   "id": "fd672293",
   "metadata": {},
   "source": [
    "\n",
    "---\n",
    "\n",
    "### Exercise 54:\n",
    "Compute the inverse of a 2x2 NumPy matrix.\n"
   ]
  },
  {
   "cell_type": "code",
   "execution_count": 269,
   "id": "d9eebfee",
   "metadata": {},
   "outputs": [
    {
     "name": "stdout",
     "output_type": "stream",
     "text": [
      "Original matrix:\n",
      " [[4 7]\n",
      " [2 6]]\n",
      "Inverse matrix:\n",
      " [[ 0.6 -0.7]\n",
      " [-0.2  0.4]]\n"
     ]
    }
   ],
   "source": [
    "matrix = np.array([[4, 7],\n",
    "                   [2, 6]])\n",
    "\n",
    "inverse = np.linalg.inv(matrix)\n",
    "print(\"Original matrix:\\n\", matrix)\n",
    "print(\"Inverse matrix:\\n\", inverse)"
   ]
  },
  {
   "cell_type": "markdown",
   "id": "d635d87b",
   "metadata": {},
   "source": [
    "\n",
    "---\n",
    "\n",
    "### Exercise 55:\n",
    "Create a NumPy array of 10 random values and standardize it (mean 0, variance 1).\n"
   ]
  },
  {
   "cell_type": "code",
   "execution_count": 275,
   "id": "dc8ffa7d",
   "metadata": {},
   "outputs": [
    {
     "name": "stdout",
     "output_type": "stream",
     "text": [
      "Original array: [0.92530203 0.19615528 0.60012874 0.8863821  0.8265917  0.03730842\n",
      " 0.43895072 0.58393927 0.93812715 0.29403526]\n",
      "Standardized array: [ 1.14669193 -1.22450224  0.08922438  1.02012384  0.82568472 -1.74107418\n",
      " -0.43492851  0.03657605  1.18839936 -0.90619536]\n",
      "Mean of standardized array: -1.4432899320127036e-16\n",
      "Std dev of standardized array: 0.9999999999999999\n"
     ]
    }
   ],
   "source": [
    "arr = np.random.rand(10) \n",
    "standardized_arr = (arr - np.mean(arr)) / np.std(arr)\n",
    "\n",
    "print(\"Original array:\", arr)\n",
    "print(\"Standardized array:\", standardized_arr)\n",
    "print(\"Mean of standardized array:\", np.mean(standardized_arr))\n",
    "print(\"Std dev of standardized array:\", np.std(standardized_arr))"
   ]
  },
  {
   "cell_type": "markdown",
   "id": "6db1e281",
   "metadata": {},
   "source": [
    "\n",
    "---\n",
    "\n",
    "### Exercise 56:\n",
    "Perform element-wise addition and subtraction on two NumPy arrays.\n"
   ]
  },
  {
   "cell_type": "code",
   "execution_count": 277,
   "id": "e8d4d852",
   "metadata": {},
   "outputs": [
    {
     "name": "stdout",
     "output_type": "stream",
     "text": [
      "Array a: [1 2 3 4]\n",
      "Array b: [10 20 30 40]\n",
      "Addition (a + b): [11 22 33 44]\n",
      "Subtraction (a - b): [ -9 -18 -27 -36]\n"
     ]
    }
   ],
   "source": [
    "a = np.array([1, 2, 3, 4])\n",
    "b = np.array([10, 20, 30, 40])\n",
    "add_result = a + b\n",
    "sub_result = a - b\n",
    "\n",
    "print(\"Array a:\", a)\n",
    "print(\"Array b:\", b)\n",
    "print(\"Addition (a + b):\", add_result)\n",
    "print(\"Subtraction (a - b):\", sub_result)"
   ]
  },
  {
   "cell_type": "markdown",
   "id": "843ba956",
   "metadata": {},
   "source": [
    "\n",
    "---\n",
    "\n",
    "### Exercise 57:\n",
    "Create a NumPy array of random values and find the maximum element's index.\n"
   ]
  },
  {
   "cell_type": "code",
   "execution_count": 279,
   "id": "e4cbc318",
   "metadata": {},
   "outputs": [
    {
     "name": "stdout",
     "output_type": "stream",
     "text": [
      "Array: [0.03497751 0.74265161 0.45713271 0.16550929 0.45220415 0.19534009\n",
      " 0.04664267 0.04077736 0.31060623 0.32700099]\n",
      "Index of maximum element: 1\n",
      "Maximum element: 0.7426516084728279\n"
     ]
    }
   ],
   "source": [
    "arr = np.random.rand(10)\n",
    "max_index = np.argmax(arr)\n",
    "\n",
    "print(\"Array:\", arr)\n",
    "print(\"Index of maximum element:\", max_index)\n",
    "print(\"Maximum element:\", arr[max_index])"
   ]
  },
  {
   "cell_type": "markdown",
   "id": "e8356250",
   "metadata": {},
   "source": [
    "\n",
    "---\n",
    "\n",
    "### Exercise 58:\n",
    "Create a 3x3 NumPy array and rotate it by 90 degrees.\n"
   ]
  },
  {
   "cell_type": "code",
   "execution_count": 281,
   "id": "f80c6616",
   "metadata": {},
   "outputs": [
    {
     "name": "stdout",
     "output_type": "stream",
     "text": [
      "Original array:\n",
      " [[1 2 3]\n",
      " [4 5 6]\n",
      " [7 8 9]]\n",
      "Array rotated by 90 degrees:\n",
      " [[3 6 9]\n",
      " [2 5 8]\n",
      " [1 4 7]]\n"
     ]
    }
   ],
   "source": [
    "arr = np.array([[1, 2, 3],\n",
    "                [4, 5, 6],\n",
    "                [7, 8, 9]])\n",
    "rotated_arr = np.rot90(arr)\n",
    "\n",
    "print(\"Original array:\\n\", arr)\n",
    "print(\"Array rotated by 90 degrees:\\n\", rotated_arr)"
   ]
  },
  {
   "cell_type": "markdown",
   "id": "5bdbf96d",
   "metadata": {},
   "source": [
    "\n",
    "---\n",
    "\n",
    "### Exercise 59:\n",
    "Compute the Frobenius norm of a matrix.\n"
   ]
  },
  {
   "cell_type": "code",
   "execution_count": 283,
   "id": "bb81b41a",
   "metadata": {},
   "outputs": [
    {
     "name": "stdout",
     "output_type": "stream",
     "text": [
      "Matrix:\n",
      " [[1 2]\n",
      " [3 4]]\n",
      "Frobenius norm: 5.477225575051661\n"
     ]
    }
   ],
   "source": [
    "matrix = np.array([[1, 2],\n",
    "                   [3, 4]])\n",
    "fro_norm = np.linalg.norm(matrix, 'fro')\n",
    "\n",
    "print(\"Matrix:\\n\", matrix)\n",
    "print(\"Frobenius norm:\", fro_norm)"
   ]
  },
  {
   "cell_type": "markdown",
   "id": "9388b0db",
   "metadata": {},
   "source": [
    "\n",
    "---\n",
    "\n",
    "### Exercise 60:\n",
    "Create a 3D NumPy array and slice out a subarray.\n"
   ]
  },
  {
   "cell_type": "code",
   "execution_count": 271,
   "id": "f051d3a2",
   "metadata": {},
   "outputs": [
    {
     "name": "stdout",
     "output_type": "stream",
     "text": [
      "Original 3D array:\n",
      " [[[ 0  1  2]\n",
      "  [ 3  4  5]\n",
      "  [ 6  7  8]]\n",
      "\n",
      " [[ 9 10 11]\n",
      "  [12 13 14]\n",
      "  [15 16 17]]\n",
      "\n",
      " [[18 19 20]\n",
      "  [21 22 23]\n",
      "  [24 25 26]]]\n",
      "Sliced subarray:\n",
      " [[[ 0  1]\n",
      "  [ 3  4]\n",
      "  [ 6  7]]\n",
      "\n",
      " [[ 9 10]\n",
      "  [12 13]\n",
      "  [15 16]]\n",
      "\n",
      " [[18 19]\n",
      "  [21 22]\n",
      "  [24 25]]]\n"
     ]
    }
   ],
   "source": [
    "arr_3d = np.arange(27).reshape((3, 3, 3))\n",
    "print(\"Original 3D array:\\n\", arr_3d)\n",
    "subarray = arr_3d[:, :, :2]\n",
    "print(\"Sliced subarray:\\n\", subarray)"
   ]
  },
  {
   "cell_type": "markdown",
   "id": "9cb79001",
   "metadata": {},
   "source": [
    "\n",
    "---"
   ]
  }
 ],
 "metadata": {
  "kernelspec": {
   "display_name": "Python 3 (ipykernel)",
   "language": "python",
   "name": "python3"
  },
  "language_info": {
   "codemirror_mode": {
    "name": "ipython",
    "version": 3
   },
   "file_extension": ".py",
   "mimetype": "text/x-python",
   "name": "python",
   "nbconvert_exporter": "python",
   "pygments_lexer": "ipython3",
   "version": "3.12.7"
  }
 },
 "nbformat": 4,
 "nbformat_minor": 5
}
